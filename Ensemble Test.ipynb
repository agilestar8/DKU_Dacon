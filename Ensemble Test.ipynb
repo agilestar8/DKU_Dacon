{
 "cells": [
  {
   "cell_type": "code",
   "execution_count": 1,
   "metadata": {
    "ExecuteTime": {
     "end_time": "2020-10-08T14:58:21.687316Z",
     "start_time": "2020-10-08T14:58:20.138039Z"
    }
   },
   "outputs": [],
   "source": [
    "import pandas as pd\n",
    "import numpy as np\n",
    "import matplotlib.pyplot as plt\n",
    "import seaborn as sns\n",
    "plt.rcParams[\"figure.figsize\"] = (20,12)\n",
    "\n",
    "def to_array(result):\n",
    "    final_result = np.array(result)\n",
    "    return final_result"
   ]
  },
  {
   "cell_type": "markdown",
   "metadata": {},
   "source": [
    "# LR 0.851"
   ]
  },
  {
   "cell_type": "code",
   "execution_count": 2,
   "metadata": {
    "ExecuteTime": {
     "end_time": "2020-10-08T14:58:21.783850Z",
     "start_time": "2020-10-08T14:58:21.689301Z"
    }
   },
   "outputs": [
    {
     "data": {
      "text/html": [
       "<div>\n",
       "<style scoped>\n",
       "    .dataframe tbody tr th:only-of-type {\n",
       "        vertical-align: middle;\n",
       "    }\n",
       "\n",
       "    .dataframe tbody tr th {\n",
       "        vertical-align: top;\n",
       "    }\n",
       "\n",
       "    .dataframe thead th {\n",
       "        text-align: right;\n",
       "    }\n",
       "</style>\n",
       "<table border=\"1\" class=\"dataframe\">\n",
       "  <thead>\n",
       "    <tr style=\"text-align: right;\">\n",
       "      <th></th>\n",
       "      <th>0</th>\n",
       "      <th>1</th>\n",
       "      <th>2</th>\n",
       "    </tr>\n",
       "  </thead>\n",
       "  <tbody>\n",
       "    <tr>\n",
       "      <th>0</th>\n",
       "      <td>0.005816</td>\n",
       "      <td>0.214370</td>\n",
       "      <td>0.779815</td>\n",
       "    </tr>\n",
       "    <tr>\n",
       "      <th>1</th>\n",
       "      <td>0.934709</td>\n",
       "      <td>0.039362</td>\n",
       "      <td>0.025928</td>\n",
       "    </tr>\n",
       "    <tr>\n",
       "      <th>2</th>\n",
       "      <td>0.009821</td>\n",
       "      <td>0.115913</td>\n",
       "      <td>0.874266</td>\n",
       "    </tr>\n",
       "    <tr>\n",
       "      <th>3</th>\n",
       "      <td>0.493441</td>\n",
       "      <td>0.205238</td>\n",
       "      <td>0.301322</td>\n",
       "    </tr>\n",
       "    <tr>\n",
       "      <th>4</th>\n",
       "      <td>0.025898</td>\n",
       "      <td>0.172734</td>\n",
       "      <td>0.801368</td>\n",
       "    </tr>\n",
       "  </tbody>\n",
       "</table>\n",
       "</div>"
      ],
      "text/plain": [
       "          0         1         2\n",
       "0  0.005816  0.214370  0.779815\n",
       "1  0.934709  0.039362  0.025928\n",
       "2  0.009821  0.115913  0.874266\n",
       "3  0.493441  0.205238  0.301322\n",
       "4  0.025898  0.172734  0.801368"
      ]
     },
     "execution_count": 2,
     "metadata": {},
     "output_type": "execute_result"
    }
   ],
   "source": [
    "logis = pd.read_csv(\"logistic_proba.csv\")\n",
    "logis.head()"
   ]
  },
  {
   "cell_type": "markdown",
   "metadata": {},
   "source": [
    "# Ridge 0.6734"
   ]
  },
  {
   "cell_type": "code",
   "execution_count": 3,
   "metadata": {
    "ExecuteTime": {
     "end_time": "2020-10-08T14:58:21.833671Z",
     "start_time": "2020-10-08T14:58:21.785802Z"
    }
   },
   "outputs": [
    {
     "data": {
      "text/html": [
       "<div>\n",
       "<style scoped>\n",
       "    .dataframe tbody tr th:only-of-type {\n",
       "        vertical-align: middle;\n",
       "    }\n",
       "\n",
       "    .dataframe tbody tr th {\n",
       "        vertical-align: top;\n",
       "    }\n",
       "\n",
       "    .dataframe thead th {\n",
       "        text-align: right;\n",
       "    }\n",
       "</style>\n",
       "<table border=\"1\" class=\"dataframe\">\n",
       "  <thead>\n",
       "    <tr style=\"text-align: right;\">\n",
       "      <th></th>\n",
       "      <th>0</th>\n",
       "    </tr>\n",
       "  </thead>\n",
       "  <tbody>\n",
       "    <tr>\n",
       "      <th>0</th>\n",
       "      <td>2</td>\n",
       "    </tr>\n",
       "    <tr>\n",
       "      <th>1</th>\n",
       "      <td>0</td>\n",
       "    </tr>\n",
       "    <tr>\n",
       "      <th>2</th>\n",
       "      <td>2</td>\n",
       "    </tr>\n",
       "    <tr>\n",
       "      <th>3</th>\n",
       "      <td>2</td>\n",
       "    </tr>\n",
       "    <tr>\n",
       "      <th>4</th>\n",
       "      <td>2</td>\n",
       "    </tr>\n",
       "  </tbody>\n",
       "</table>\n",
       "</div>"
      ],
      "text/plain": [
       "   0\n",
       "0  2\n",
       "1  0\n",
       "2  2\n",
       "3  2\n",
       "4  2"
      ]
     },
     "execution_count": 3,
     "metadata": {},
     "output_type": "execute_result"
    }
   ],
   "source": [
    "ridge = pd.read_csv(\"ridge_result.csv\")\n",
    "ridge.columns = [\"0\"]\n",
    "ridge.head()"
   ]
  },
  {
   "cell_type": "markdown",
   "metadata": {},
   "source": [
    "# RF 0.93405"
   ]
  },
  {
   "cell_type": "code",
   "execution_count": 4,
   "metadata": {
    "ExecuteTime": {
     "end_time": "2020-10-08T14:58:21.903767Z",
     "start_time": "2020-10-08T14:58:21.835663Z"
    }
   },
   "outputs": [
    {
     "data": {
      "text/html": [
       "<div>\n",
       "<style scoped>\n",
       "    .dataframe tbody tr th:only-of-type {\n",
       "        vertical-align: middle;\n",
       "    }\n",
       "\n",
       "    .dataframe tbody tr th {\n",
       "        vertical-align: top;\n",
       "    }\n",
       "\n",
       "    .dataframe thead th {\n",
       "        text-align: right;\n",
       "    }\n",
       "</style>\n",
       "<table border=\"1\" class=\"dataframe\">\n",
       "  <thead>\n",
       "    <tr style=\"text-align: right;\">\n",
       "      <th></th>\n",
       "      <th>0</th>\n",
       "      <th>1</th>\n",
       "      <th>2</th>\n",
       "    </tr>\n",
       "  </thead>\n",
       "  <tbody>\n",
       "    <tr>\n",
       "      <th>0</th>\n",
       "      <td>0.0</td>\n",
       "      <td>0.149472</td>\n",
       "      <td>0.850528</td>\n",
       "    </tr>\n",
       "    <tr>\n",
       "      <th>1</th>\n",
       "      <td>1.0</td>\n",
       "      <td>0.000000</td>\n",
       "      <td>0.000000</td>\n",
       "    </tr>\n",
       "    <tr>\n",
       "      <th>2</th>\n",
       "      <td>0.0</td>\n",
       "      <td>0.050683</td>\n",
       "      <td>0.949317</td>\n",
       "    </tr>\n",
       "    <tr>\n",
       "      <th>3</th>\n",
       "      <td>1.0</td>\n",
       "      <td>0.000000</td>\n",
       "      <td>0.000000</td>\n",
       "    </tr>\n",
       "    <tr>\n",
       "      <th>4</th>\n",
       "      <td>0.0</td>\n",
       "      <td>0.075345</td>\n",
       "      <td>0.924655</td>\n",
       "    </tr>\n",
       "  </tbody>\n",
       "</table>\n",
       "</div>"
      ],
      "text/plain": [
       "     0         1         2\n",
       "0  0.0  0.149472  0.850528\n",
       "1  1.0  0.000000  0.000000\n",
       "2  0.0  0.050683  0.949317\n",
       "3  1.0  0.000000  0.000000\n",
       "4  0.0  0.075345  0.924655"
      ]
     },
     "execution_count": 4,
     "metadata": {},
     "output_type": "execute_result"
    }
   ],
   "source": [
    "ranfo = pd.read_csv(\"rf_result.csv\")\n",
    "ranfo.head()"
   ]
  },
  {
   "cell_type": "markdown",
   "metadata": {},
   "source": [
    "# LGBM 0.9352"
   ]
  },
  {
   "cell_type": "code",
   "execution_count": 5,
   "metadata": {
    "ExecuteTime": {
     "end_time": "2020-10-08T14:58:21.999514Z",
     "start_time": "2020-10-08T14:58:21.906760Z"
    }
   },
   "outputs": [
    {
     "data": {
      "text/html": [
       "<div>\n",
       "<style scoped>\n",
       "    .dataframe tbody tr th:only-of-type {\n",
       "        vertical-align: middle;\n",
       "    }\n",
       "\n",
       "    .dataframe tbody tr th {\n",
       "        vertical-align: top;\n",
       "    }\n",
       "\n",
       "    .dataframe thead th {\n",
       "        text-align: right;\n",
       "    }\n",
       "</style>\n",
       "<table border=\"1\" class=\"dataframe\">\n",
       "  <thead>\n",
       "    <tr style=\"text-align: right;\">\n",
       "      <th></th>\n",
       "      <th>0</th>\n",
       "      <th>1</th>\n",
       "      <th>2</th>\n",
       "    </tr>\n",
       "  </thead>\n",
       "  <tbody>\n",
       "    <tr>\n",
       "      <th>0</th>\n",
       "      <td>0.000173</td>\n",
       "      <td>0.197936</td>\n",
       "      <td>0.801891</td>\n",
       "    </tr>\n",
       "    <tr>\n",
       "      <th>1</th>\n",
       "      <td>0.999958</td>\n",
       "      <td>0.000029</td>\n",
       "      <td>0.000013</td>\n",
       "    </tr>\n",
       "    <tr>\n",
       "      <th>2</th>\n",
       "      <td>0.000139</td>\n",
       "      <td>0.052725</td>\n",
       "      <td>0.947136</td>\n",
       "    </tr>\n",
       "    <tr>\n",
       "      <th>3</th>\n",
       "      <td>0.999962</td>\n",
       "      <td>0.000018</td>\n",
       "      <td>0.000020</td>\n",
       "    </tr>\n",
       "    <tr>\n",
       "      <th>4</th>\n",
       "      <td>0.000104</td>\n",
       "      <td>0.044596</td>\n",
       "      <td>0.955300</td>\n",
       "    </tr>\n",
       "  </tbody>\n",
       "</table>\n",
       "</div>"
      ],
      "text/plain": [
       "          0         1         2\n",
       "0  0.000173  0.197936  0.801891\n",
       "1  0.999958  0.000029  0.000013\n",
       "2  0.000139  0.052725  0.947136\n",
       "3  0.999962  0.000018  0.000020\n",
       "4  0.000104  0.044596  0.955300"
      ]
     },
     "execution_count": 5,
     "metadata": {},
     "output_type": "execute_result"
    }
   ],
   "source": [
    "lgb = pd.read_csv(\"lgb_result.csv\")\n",
    "lgb.columns = [\"0\",\"1\",\"2\"]\n",
    "lgb.head()"
   ]
  },
  {
   "cell_type": "markdown",
   "metadata": {},
   "source": [
    "# XGB 0.93645"
   ]
  },
  {
   "cell_type": "code",
   "execution_count": 6,
   "metadata": {
    "ExecuteTime": {
     "end_time": "2020-10-08T14:58:22.076581Z",
     "start_time": "2020-10-08T14:58:22.001510Z"
    }
   },
   "outputs": [
    {
     "data": {
      "text/plain": [
       "2    40817\n",
       "0    29977\n",
       "1     9206\n",
       "Name: 0, dtype: int64"
      ]
     },
     "execution_count": 6,
     "metadata": {},
     "output_type": "execute_result"
    }
   ],
   "source": [
    "xgb = pd.read_csv(\"xgb_result.csv\")\n",
    "xgb.head()\n",
    "pd.DataFrame(np.array(xgb).argmax(1)).iloc[:,0].value_counts()"
   ]
  },
  {
   "cell_type": "code",
   "execution_count": 7,
   "metadata": {
    "ExecuteTime": {
     "end_time": "2020-10-08T14:58:23.659899Z",
     "start_time": "2020-10-08T14:58:22.078576Z"
    }
   },
   "outputs": [],
   "source": [
    "lgb_train_stack = pd.read_csv(r\"C:\\Users\\scott\\Desktop\\dankook_dacon\\lgb_train_stack.csv\")\n",
    "lgb_test_stack = pd.read_csv(r\"C:\\Users\\scott\\Desktop\\dankook_dacon\\lgb_test_stack.csv\")\n",
    "lgb_train_stack.columns = [\"lgb0\",\"lgb1\",\"lgb2\"]\n",
    "lgb_test_stack.columns = [\"lgb0\",\"lgb1\",\"lgb2\"]\n",
    "\n",
    "xgb_train_stack = pd.read_csv(r\"C:\\Users\\scott\\Desktop\\dankook_dacon\\xgb_train_stack.csv\")\n",
    "xgb_test_stack = pd.read_csv(r\"C:\\Users\\scott\\Desktop\\dankook_dacon\\xgb_test_stack.csv\")\n",
    "xgb_train_stack.columns = [\"xgb0\",\"xgb1\",\"xgb2\"]\n",
    "xgb_test_stack.columns = [\"xgb0\",\"xgb1\",\"xgb2\"]\n",
    "\n",
    "rf_train_stack = pd.read_csv(r\"C:\\Users\\scott\\Desktop\\dankook_dacon\\rf_train_stack.csv\")\n",
    "rf_test_stack = pd.read_csv(r\"C:\\Users\\scott\\Desktop\\dankook_dacon\\rf_test_stack.csv\")\n",
    "rf_train_stack.columns = [\"rf0\",\"rf1\",\"rf2\"]\n",
    "rf_test_stack.columns = [\"rf0\",\"rf1\",\"rf2\"]\n",
    "\n",
    "lr_train_stack = pd.read_csv(r\"C:\\Users\\scott\\Desktop\\dankook_dacon\\lr_train_stack.csv\")\n",
    "lr_test_stack = pd.read_csv(r\"C:\\Users\\scott\\Desktop\\dankook_dacon\\lr_test_stack.csv\")\n",
    "lr_train_stack.columns = [\"lr0\",\"lr1\",\"lr2\"]\n",
    "lr_test_stack.columns = [\"lr0\",\"lr1\",\"lr2\"]\n",
    "\n",
    "rd_train_stack = pd.read_csv(r\"C:\\Users\\scott\\Desktop\\dankook_dacon\\rd_train_stack.csv\")\n",
    "rd_test_stack = pd.read_csv(r\"C:\\Users\\scott\\Desktop\\dankook_dacon\\rd_test_stack.csv\")\n",
    "rd_train_stack.columns = [\"rd0\",\"rd1\",\"rd2\"]\n",
    "rd_test_stack.columns = [\"rd0\",\"rd1\",\"rd2\"]\n",
    "\n"
   ]
  },
  {
   "cell_type": "code",
   "execution_count": 8,
   "metadata": {
    "ExecuteTime": {
     "end_time": "2020-10-08T14:58:25.697596Z",
     "start_time": "2020-10-08T14:58:23.661866Z"
    },
    "scrolled": false
   },
   "outputs": [
    {
     "data": {
      "text/html": [
       "<div>\n",
       "<style scoped>\n",
       "    .dataframe tbody tr th:only-of-type {\n",
       "        vertical-align: middle;\n",
       "    }\n",
       "\n",
       "    .dataframe tbody tr th {\n",
       "        vertical-align: top;\n",
       "    }\n",
       "\n",
       "    .dataframe thead th {\n",
       "        text-align: right;\n",
       "    }\n",
       "</style>\n",
       "<table border=\"1\" class=\"dataframe\">\n",
       "  <thead>\n",
       "    <tr style=\"text-align: right;\">\n",
       "      <th></th>\n",
       "      <th>lgb0</th>\n",
       "      <th>lgb1</th>\n",
       "      <th>lgb2</th>\n",
       "      <th>xgb0</th>\n",
       "      <th>xgb1</th>\n",
       "      <th>xgb2</th>\n",
       "      <th>rf0</th>\n",
       "      <th>rf1</th>\n",
       "      <th>rf2</th>\n",
       "      <th>lr0</th>\n",
       "      <th>lr1</th>\n",
       "      <th>lr2</th>\n",
       "      <th>rd0</th>\n",
       "      <th>rd1</th>\n",
       "      <th>rd2</th>\n",
       "    </tr>\n",
       "  </thead>\n",
       "  <tbody>\n",
       "    <tr>\n",
       "      <th>0</th>\n",
       "      <td>0.999999</td>\n",
       "      <td>2.982668e-07</td>\n",
       "      <td>4.796013e-07</td>\n",
       "      <td>0.999999</td>\n",
       "      <td>2.452088e-07</td>\n",
       "      <td>5.087230e-07</td>\n",
       "      <td>1.000000</td>\n",
       "      <td>0.000000</td>\n",
       "      <td>0.000000</td>\n",
       "      <td>0.913420</td>\n",
       "      <td>0.000245</td>\n",
       "      <td>0.086335</td>\n",
       "      <td>0.606042</td>\n",
       "      <td>0.125865</td>\n",
       "      <td>0.215436</td>\n",
       "    </tr>\n",
       "    <tr>\n",
       "      <th>1</th>\n",
       "      <td>0.006222</td>\n",
       "      <td>6.046523e-01</td>\n",
       "      <td>3.891257e-01</td>\n",
       "      <td>0.009805</td>\n",
       "      <td>6.976661e-01</td>\n",
       "      <td>2.925287e-01</td>\n",
       "      <td>0.000752</td>\n",
       "      <td>0.476010</td>\n",
       "      <td>0.523238</td>\n",
       "      <td>0.054187</td>\n",
       "      <td>0.093255</td>\n",
       "      <td>0.852558</td>\n",
       "      <td>0.090395</td>\n",
       "      <td>0.162958</td>\n",
       "      <td>1.115600</td>\n",
       "    </tr>\n",
       "    <tr>\n",
       "      <th>2</th>\n",
       "      <td>0.999774</td>\n",
       "      <td>1.975984e-04</td>\n",
       "      <td>2.859832e-05</td>\n",
       "      <td>0.999544</td>\n",
       "      <td>4.023481e-04</td>\n",
       "      <td>5.392828e-05</td>\n",
       "      <td>0.998667</td>\n",
       "      <td>0.001333</td>\n",
       "      <td>0.000000</td>\n",
       "      <td>0.275173</td>\n",
       "      <td>0.223934</td>\n",
       "      <td>0.500893</td>\n",
       "      <td>0.144876</td>\n",
       "      <td>0.182809</td>\n",
       "      <td>0.620489</td>\n",
       "    </tr>\n",
       "    <tr>\n",
       "      <th>3</th>\n",
       "      <td>0.999998</td>\n",
       "      <td>6.710844e-07</td>\n",
       "      <td>1.596647e-06</td>\n",
       "      <td>0.999999</td>\n",
       "      <td>1.872798e-07</td>\n",
       "      <td>5.304106e-07</td>\n",
       "      <td>1.000000</td>\n",
       "      <td>0.000000</td>\n",
       "      <td>0.000000</td>\n",
       "      <td>0.977281</td>\n",
       "      <td>0.000008</td>\n",
       "      <td>0.022711</td>\n",
       "      <td>1.020916</td>\n",
       "      <td>0.103429</td>\n",
       "      <td>0.155631</td>\n",
       "    </tr>\n",
       "    <tr>\n",
       "      <th>4</th>\n",
       "      <td>0.999992</td>\n",
       "      <td>1.237498e-06</td>\n",
       "      <td>6.982293e-06</td>\n",
       "      <td>0.999999</td>\n",
       "      <td>2.514829e-07</td>\n",
       "      <td>1.186664e-06</td>\n",
       "      <td>1.000000</td>\n",
       "      <td>0.000000</td>\n",
       "      <td>0.000000</td>\n",
       "      <td>0.941107</td>\n",
       "      <td>0.000034</td>\n",
       "      <td>0.058859</td>\n",
       "      <td>0.695349</td>\n",
       "      <td>0.110028</td>\n",
       "      <td>0.214793</td>\n",
       "    </tr>\n",
       "  </tbody>\n",
       "</table>\n",
       "</div>"
      ],
      "text/plain": [
       "       lgb0          lgb1          lgb2      xgb0          xgb1          xgb2  \\\n",
       "0  0.999999  2.982668e-07  4.796013e-07  0.999999  2.452088e-07  5.087230e-07   \n",
       "1  0.006222  6.046523e-01  3.891257e-01  0.009805  6.976661e-01  2.925287e-01   \n",
       "2  0.999774  1.975984e-04  2.859832e-05  0.999544  4.023481e-04  5.392828e-05   \n",
       "3  0.999998  6.710844e-07  1.596647e-06  0.999999  1.872798e-07  5.304106e-07   \n",
       "4  0.999992  1.237498e-06  6.982293e-06  0.999999  2.514829e-07  1.186664e-06   \n",
       "\n",
       "        rf0       rf1       rf2       lr0       lr1       lr2       rd0  \\\n",
       "0  1.000000  0.000000  0.000000  0.913420  0.000245  0.086335  0.606042   \n",
       "1  0.000752  0.476010  0.523238  0.054187  0.093255  0.852558  0.090395   \n",
       "2  0.998667  0.001333  0.000000  0.275173  0.223934  0.500893  0.144876   \n",
       "3  1.000000  0.000000  0.000000  0.977281  0.000008  0.022711  1.020916   \n",
       "4  1.000000  0.000000  0.000000  0.941107  0.000034  0.058859  0.695349   \n",
       "\n",
       "        rd1       rd2  \n",
       "0  0.125865  0.215436  \n",
       "1  0.162958  1.115600  \n",
       "2  0.182809  0.620489  \n",
       "3  0.103429  0.155631  \n",
       "4  0.110028  0.214793  "
      ]
     },
     "metadata": {},
     "output_type": "display_data"
    },
    {
     "data": {
      "text/html": [
       "<div>\n",
       "<style scoped>\n",
       "    .dataframe tbody tr th:only-of-type {\n",
       "        vertical-align: middle;\n",
       "    }\n",
       "\n",
       "    .dataframe tbody tr th {\n",
       "        vertical-align: top;\n",
       "    }\n",
       "\n",
       "    .dataframe thead th {\n",
       "        text-align: right;\n",
       "    }\n",
       "</style>\n",
       "<table border=\"1\" class=\"dataframe\">\n",
       "  <thead>\n",
       "    <tr style=\"text-align: right;\">\n",
       "      <th></th>\n",
       "      <th>lgb0</th>\n",
       "      <th>lgb1</th>\n",
       "      <th>lgb2</th>\n",
       "      <th>xgb0</th>\n",
       "      <th>xgb1</th>\n",
       "      <th>xgb2</th>\n",
       "      <th>rf0</th>\n",
       "      <th>rf1</th>\n",
       "      <th>rf2</th>\n",
       "      <th>lr0</th>\n",
       "      <th>lr1</th>\n",
       "      <th>lr2</th>\n",
       "      <th>rd0</th>\n",
       "      <th>rd1</th>\n",
       "      <th>rd2</th>\n",
       "    </tr>\n",
       "  </thead>\n",
       "  <tbody>\n",
       "    <tr>\n",
       "      <th>0</th>\n",
       "      <td>0.000020</td>\n",
       "      <td>0.186220</td>\n",
       "      <td>0.813760</td>\n",
       "      <td>0.000010</td>\n",
       "      <td>0.140264</td>\n",
       "      <td>0.859726</td>\n",
       "      <td>0.000000</td>\n",
       "      <td>0.153964</td>\n",
       "      <td>0.846036</td>\n",
       "      <td>0.005816</td>\n",
       "      <td>0.214370</td>\n",
       "      <td>0.779815</td>\n",
       "      <td>0.084399</td>\n",
       "      <td>0.068192</td>\n",
       "      <td>0.158441</td>\n",
       "    </tr>\n",
       "    <tr>\n",
       "      <th>1</th>\n",
       "      <td>0.999983</td>\n",
       "      <td>0.000013</td>\n",
       "      <td>0.000004</td>\n",
       "      <td>0.999959</td>\n",
       "      <td>0.000033</td>\n",
       "      <td>0.000008</td>\n",
       "      <td>0.999908</td>\n",
       "      <td>0.000092</td>\n",
       "      <td>0.000000</td>\n",
       "      <td>0.934709</td>\n",
       "      <td>0.039362</td>\n",
       "      <td>0.025928</td>\n",
       "      <td>0.129371</td>\n",
       "      <td>0.059804</td>\n",
       "      <td>0.117861</td>\n",
       "    </tr>\n",
       "    <tr>\n",
       "      <th>2</th>\n",
       "      <td>0.000022</td>\n",
       "      <td>0.055379</td>\n",
       "      <td>0.944599</td>\n",
       "      <td>0.000028</td>\n",
       "      <td>0.060856</td>\n",
       "      <td>0.939116</td>\n",
       "      <td>0.000058</td>\n",
       "      <td>0.055360</td>\n",
       "      <td>0.944582</td>\n",
       "      <td>0.009821</td>\n",
       "      <td>0.115913</td>\n",
       "      <td>0.874266</td>\n",
       "      <td>0.085872</td>\n",
       "      <td>0.063854</td>\n",
       "      <td>0.166303</td>\n",
       "    </tr>\n",
       "    <tr>\n",
       "      <th>3</th>\n",
       "      <td>0.999986</td>\n",
       "      <td>0.000007</td>\n",
       "      <td>0.000007</td>\n",
       "      <td>0.999988</td>\n",
       "      <td>0.000006</td>\n",
       "      <td>0.000006</td>\n",
       "      <td>1.000000</td>\n",
       "      <td>0.000000</td>\n",
       "      <td>0.000000</td>\n",
       "      <td>0.493441</td>\n",
       "      <td>0.205238</td>\n",
       "      <td>0.301322</td>\n",
       "      <td>0.072378</td>\n",
       "      <td>0.073112</td>\n",
       "      <td>0.172323</td>\n",
       "    </tr>\n",
       "    <tr>\n",
       "      <th>4</th>\n",
       "      <td>0.000013</td>\n",
       "      <td>0.037135</td>\n",
       "      <td>0.962853</td>\n",
       "      <td>0.000008</td>\n",
       "      <td>0.020237</td>\n",
       "      <td>0.979755</td>\n",
       "      <td>0.000000</td>\n",
       "      <td>0.083517</td>\n",
       "      <td>0.916483</td>\n",
       "      <td>0.025898</td>\n",
       "      <td>0.172734</td>\n",
       "      <td>0.801368</td>\n",
       "      <td>0.064924</td>\n",
       "      <td>0.066433</td>\n",
       "      <td>0.211419</td>\n",
       "    </tr>\n",
       "  </tbody>\n",
       "</table>\n",
       "</div>"
      ],
      "text/plain": [
       "       lgb0      lgb1      lgb2      xgb0      xgb1      xgb2       rf0  \\\n",
       "0  0.000020  0.186220  0.813760  0.000010  0.140264  0.859726  0.000000   \n",
       "1  0.999983  0.000013  0.000004  0.999959  0.000033  0.000008  0.999908   \n",
       "2  0.000022  0.055379  0.944599  0.000028  0.060856  0.939116  0.000058   \n",
       "3  0.999986  0.000007  0.000007  0.999988  0.000006  0.000006  1.000000   \n",
       "4  0.000013  0.037135  0.962853  0.000008  0.020237  0.979755  0.000000   \n",
       "\n",
       "        rf1       rf2       lr0       lr1       lr2       rd0       rd1  \\\n",
       "0  0.153964  0.846036  0.005816  0.214370  0.779815  0.084399  0.068192   \n",
       "1  0.000092  0.000000  0.934709  0.039362  0.025928  0.129371  0.059804   \n",
       "2  0.055360  0.944582  0.009821  0.115913  0.874266  0.085872  0.063854   \n",
       "3  0.000000  0.000000  0.493441  0.205238  0.301322  0.072378  0.073112   \n",
       "4  0.083517  0.916483  0.025898  0.172734  0.801368  0.064924  0.066433   \n",
       "\n",
       "        rd2  \n",
       "0  0.158441  \n",
       "1  0.117861  \n",
       "2  0.166303  \n",
       "3  0.172323  \n",
       "4  0.211419  "
      ]
     },
     "metadata": {},
     "output_type": "display_data"
    }
   ],
   "source": [
    "# rf, xgb, ,lgb, cat\n",
    "from sklearn.ensemble import RandomForestClassifier\n",
    "from xgboost import XGBClassifier\n",
    "from lightgbm import LGBMClassifier\n",
    "from catboost import CatBoostClassifier\n",
    "from sklearn.linear_model import LogisticRegression\n",
    "from sklearn.model_selection import StratifiedKFold,train_test_split\n",
    "train = pd.read_csv(r\"C:\\Users\\scott\\Desktop\\dankook_dacon\\dataset\\train.csv\")\n",
    "test = pd.read_csv(r\"C:\\Users\\scott\\Desktop\\dankook_dacon\\dataset\\test.csv\")\n",
    "\n",
    "# x_train = pd.concat([lgb_train_stack,xgb_train_stack,rf_train_stack,lr_train_stack], axis=1)\n",
    "# x_test = pd.concat([lgb_test_stack,xgb_test_stack,rf_test_stack, lr_test_stack], axis=1)\n",
    "\n",
    "x_train = pd.concat([lgb_train_stack,xgb_train_stack,rf_train_stack,lr_train_stack,rd_train_stack], axis=1)\n",
    "x_test = pd.concat([lgb_test_stack,xgb_test_stack,rf_test_stack, lr_test_stack,rd_test_stack], axis=1)\n",
    "display(x_train.head(),x_test.head())\n"
   ]
  },
  {
   "cell_type": "code",
   "execution_count": 9,
   "metadata": {
    "ExecuteTime": {
     "end_time": "2020-10-08T14:58:25.705264Z",
     "start_time": "2020-10-08T14:58:25.699591Z"
    }
   },
   "outputs": [
    {
     "data": {
      "text/plain": [
       "0         0\n",
       "1         1\n",
       "2         0\n",
       "3         0\n",
       "4         0\n",
       "         ..\n",
       "319995    2\n",
       "319996    1\n",
       "319997    0\n",
       "319998    0\n",
       "319999    0\n",
       "Name: class, Length: 320000, dtype: int64"
      ]
     },
     "execution_count": 9,
     "metadata": {},
     "output_type": "execute_result"
    }
   ],
   "source": [
    "y = train[\"class\"]\n",
    "y"
   ]
  },
  {
   "cell_type": "code",
   "execution_count": 10,
   "metadata": {
    "ExecuteTime": {
     "end_time": "2020-10-08T14:58:25.727786Z",
     "start_time": "2020-10-08T14:58:25.707246Z"
    }
   },
   "outputs": [],
   "source": [
    "# from sklearn.metrics import accuracy_score, confusion_matrix\n",
    "\n",
    "# x1,v1,x2,v2  = train_test_split(x_train, train[\"class\"], test_size = 0.2, random_state = 42)\n",
    "\n",
    "# xgb = XGBClassifier(objective='multiclass', # 6378 depth 8 / 93.631%\n",
    "#                              n_estimators=500,\n",
    "#                              max_depth=8,\n",
    "#                              random_state=42,\n",
    "#                             min_child_weight = 10,\n",
    "#                             colsample_bytree = 1,\n",
    "#                              nthread = -1)\n",
    "# xgb.fit(x1, x2, eval_set=[(v1, v2)], early_stopping_rounds = 10)\n",
    "\n",
    "# # lgb = LGBMClassifier(objective='multiclass', # 1531 ~ 1530\n",
    "# #                              n_estimators=2000,\n",
    "# #                              num_leaves=4,\n",
    "# # #                              learning_rate=0.01,\n",
    "# # #                              min_child_samples=10,\n",
    "# # #                              colsample_bytree=.5,\n",
    "# # #                              subsample = 0.5,\n",
    "# # #                              subsample_freq = 1,\n",
    "# #                              random_state=42,\n",
    "# #                              n_jobs=-1)\n",
    "\n",
    "# # lgb.fit(x1, x2, eval_set=[(v1, v2)], early_stopping_rounds = 30)\n",
    "# p_val = xgb.predict(v1)\n",
    "# print(f'{accuracy_score(v2, p_val) * 100:.4f}%')\n",
    "\n",
    "# confusion_matrix(v2, p_val )"
   ]
  },
  {
   "cell_type": "markdown",
   "metadata": {},
   "source": [
    "# LGB/XGB로 스태킹"
   ]
  },
  {
   "cell_type": "code",
   "execution_count": 11,
   "metadata": {
    "ExecuteTime": {
     "end_time": "2020-10-08T14:58:25.743714Z",
     "start_time": "2020-10-08T14:58:25.730749Z"
    },
    "scrolled": true
   },
   "outputs": [],
   "source": [
    "# cv = StratifiedKFold(n_splits=10, shuffle=True, random_state=42)\n",
    "\n",
    "# p_val = np.zeros((x_train.shape[0], 3))\n",
    "# p_tst = np.zeros((x_test.shape[0], 3))\n",
    "\n",
    "\n",
    "# for i, (i_trn, i_val) in enumerate(cv.split(x_train, y), 1):\n",
    "#     print(f'training model for CV #{i}')\n",
    "    \n",
    "#     # lgb 93655\n",
    "#     clf = LGBMClassifier(objective='multiclass',\n",
    "#                              n_estimators=200,\n",
    "#                              num_leaves=10,\n",
    "#                              colsample_bytree=.6,\n",
    "#                              random_state=42,\n",
    "#                              n_jobs=-1)\n",
    "    \n",
    "#     # xgb 93645\n",
    "# #     clf = XGBClassifier(objective='multiclass', # 6378 depth 8 / 93.631%\n",
    "# #                              n_estimators=500,\n",
    "# #                              max_depth=8,\n",
    "# #                              random_state=42,\n",
    "# #                             min_child_weight = 10,\n",
    "# #                             colsample_bytree = 1,\n",
    "# #                              nthread = -1)\n",
    " \n",
    "#     clf.fit(x_train.iloc[i_trn], y[i_trn],\n",
    "#             eval_set=[(x_train.iloc[i_val], y[i_val])],\n",
    "#             early_stopping_rounds=15)\n",
    "    \n",
    "#     p_val[i_val, :] = clf.predict_proba(x_train.iloc[i_val])\n",
    "#     p_tst += clf.predict_proba(x_test) / 10\n",
    "    "
   ]
  },
  {
   "cell_type": "markdown",
   "metadata": {},
   "source": [
    "# LR/RF로 스태킹"
   ]
  },
  {
   "cell_type": "code",
   "execution_count": 12,
   "metadata": {
    "ExecuteTime": {
     "end_time": "2020-10-08T14:58:25.756680Z",
     "start_time": "2020-10-08T14:58:25.745708Z"
    }
   },
   "outputs": [],
   "source": [
    "# for i, (i_trn, i_val) in enumerate(cv.split(x_train, y), 1):\n",
    "#     print(f'training model for CV #{i}')\n",
    "\n",
    "#     ## rf\n",
    "#     clf = RandomForestClassifier(n_estimators = 250,\n",
    "#                                  verbose = 1,\n",
    "#                                  n_jobs = 6)\n",
    "    \n",
    "#     ## logistic  93.65\n",
    "# #     clf = LogisticRegression(multi_class='multinomial', n_jobs = 4)\n",
    "    \n",
    "#     clf.fit(x_train.iloc[i_trn], y[i_trn])\n",
    "#     p_val[i_val, :] = clf.predict_proba(x_train.iloc[i_val])\n",
    "#     p_tst += clf.predict_proba(x_test) / 10\n",
    "    "
   ]
  },
  {
   "cell_type": "code",
   "execution_count": null,
   "metadata": {
    "ExecuteTime": {
     "end_time": "2020-10-08T14:58:25.934831Z",
     "start_time": "2020-10-08T14:58:20.198Z"
    }
   },
   "outputs": [],
   "source": [
    "# imp = pd.DataFrame({'importance': clf.coef_[1, :].T})\n",
    "# imp = imp.sort_values('importance')\n",
    "# imp.plot(kind='barh', figsize=(8, 8))"
   ]
  },
  {
   "cell_type": "code",
   "execution_count": 19,
   "metadata": {
    "ExecuteTime": {
     "end_time": "2020-10-08T14:59:31.167619Z",
     "start_time": "2020-10-08T14:59:31.148915Z"
    }
   },
   "outputs": [],
   "source": [
    "# result1 = xgb*0.9 + logis*0.1 # 0.93 645 ***\n",
    "# result2 = xgb*0.8 + logis*0.2 # 0.93 627\n",
    "# result3 = xgb*0.7 + logis*0.3 # 0.93 54\n",
    "# result4 = xgb*0.6 + logis*0.4\n",
    "\n",
    "# result = test1*0.8 + ranfo*0.2\n",
    "# result0 = xgb*0.3 + ranfo*0.7      # 93565\n",
    "#result0 = xgb*0.4 + ranfo*0.6      0.93605\n",
    "# result1 = xgb*0.5 + ranfo*0.5    0.9361 \n",
    "# best = xgb*0.6 + ranfo*0.4 #     0.93597\n",
    "# result4 = xgb*0.65 + ranfo*0.35 \n",
    "# result = xgb*0.6 + 0.1*lgb + ranfo*0.2 + logis*0.1\n",
    "# result5 = xgb*0.8 + ranfo*0.2    0.9361\n",
    "\n",
    "\n",
    "# 2*xgb*ranfo/(xgb+ranfo) #조화평균 0.936025\n",
    "# np.sqrt(xgb*ranfo) # 기하평균\n",
    "\n",
    "# result1 = xgb*0.5 + lgb*0.5  \n",
    "# result2 = xgb*0.6 + lgb*0.4   \n",
    "# result3 = xgb*0.7 + lgb*0.3   "
   ]
  },
  {
   "cell_type": "code",
   "execution_count": 20,
   "metadata": {
    "ExecuteTime": {
     "end_time": "2020-10-08T14:59:33.122852Z",
     "start_time": "2020-10-08T14:59:33.116868Z"
    }
   },
   "outputs": [
    {
     "data": {
      "text/plain": [
       "array([[0.00157256, 0.16746953, 0.83095791],\n",
       "       [0.99304556, 0.00421276, 0.00274166],\n",
       "       [0.00176093, 0.06168218, 0.93655687],\n",
       "       ...,\n",
       "       [0.97785879, 0.01207215, 0.01006908],\n",
       "       [0.02626297, 0.07415623, 0.89958083],\n",
       "       [0.97399593, 0.02445514, 0.00154891]])"
      ]
     },
     "execution_count": 20,
     "metadata": {},
     "output_type": "execute_result"
    }
   ],
   "source": [
    "result = to_array(result)\n",
    "result"
   ]
  },
  {
   "cell_type": "code",
   "execution_count": 21,
   "metadata": {
    "ExecuteTime": {
     "end_time": "2020-10-08T14:59:34.997626Z",
     "start_time": "2020-10-08T14:59:34.964684Z"
    }
   },
   "outputs": [
    {
     "data": {
      "text/html": [
       "<div>\n",
       "<style scoped>\n",
       "    .dataframe tbody tr th:only-of-type {\n",
       "        vertical-align: middle;\n",
       "    }\n",
       "\n",
       "    .dataframe tbody tr th {\n",
       "        vertical-align: top;\n",
       "    }\n",
       "\n",
       "    .dataframe thead th {\n",
       "        text-align: right;\n",
       "    }\n",
       "</style>\n",
       "<table border=\"1\" class=\"dataframe\">\n",
       "  <thead>\n",
       "    <tr style=\"text-align: right;\">\n",
       "      <th></th>\n",
       "      <th>id</th>\n",
       "      <th>class</th>\n",
       "    </tr>\n",
       "  </thead>\n",
       "  <tbody>\n",
       "    <tr>\n",
       "      <th>0</th>\n",
       "      <td>320000</td>\n",
       "      <td>2</td>\n",
       "    </tr>\n",
       "    <tr>\n",
       "      <th>1</th>\n",
       "      <td>320001</td>\n",
       "      <td>0</td>\n",
       "    </tr>\n",
       "    <tr>\n",
       "      <th>2</th>\n",
       "      <td>320002</td>\n",
       "      <td>2</td>\n",
       "    </tr>\n",
       "    <tr>\n",
       "      <th>3</th>\n",
       "      <td>320003</td>\n",
       "      <td>0</td>\n",
       "    </tr>\n",
       "    <tr>\n",
       "      <th>4</th>\n",
       "      <td>320004</td>\n",
       "      <td>2</td>\n",
       "    </tr>\n",
       "    <tr>\n",
       "      <th>...</th>\n",
       "      <td>...</td>\n",
       "      <td>...</td>\n",
       "    </tr>\n",
       "    <tr>\n",
       "      <th>79995</th>\n",
       "      <td>399995</td>\n",
       "      <td>0</td>\n",
       "    </tr>\n",
       "    <tr>\n",
       "      <th>79996</th>\n",
       "      <td>399996</td>\n",
       "      <td>2</td>\n",
       "    </tr>\n",
       "    <tr>\n",
       "      <th>79997</th>\n",
       "      <td>399997</td>\n",
       "      <td>0</td>\n",
       "    </tr>\n",
       "    <tr>\n",
       "      <th>79998</th>\n",
       "      <td>399998</td>\n",
       "      <td>2</td>\n",
       "    </tr>\n",
       "    <tr>\n",
       "      <th>79999</th>\n",
       "      <td>399999</td>\n",
       "      <td>0</td>\n",
       "    </tr>\n",
       "  </tbody>\n",
       "</table>\n",
       "<p>80000 rows × 2 columns</p>\n",
       "</div>"
      ],
      "text/plain": [
       "           id  class\n",
       "0      320000      2\n",
       "1      320001      0\n",
       "2      320002      2\n",
       "3      320003      0\n",
       "4      320004      2\n",
       "...       ...    ...\n",
       "79995  399995      0\n",
       "79996  399996      2\n",
       "79997  399997      0\n",
       "79998  399998      2\n",
       "79999  399999      0\n",
       "\n",
       "[80000 rows x 2 columns]"
      ]
     },
     "execution_count": 21,
     "metadata": {},
     "output_type": "execute_result"
    }
   ],
   "source": [
    "sub = pd.read_csv(r\"C:\\Users\\scott\\Desktop\\dankook_dacon\\dataset\\sample_submission.csv\")\n",
    "sub[\"class\"] = result.argmax(1)\n",
    "sub"
   ]
  },
  {
   "cell_type": "code",
   "execution_count": 22,
   "metadata": {
    "ExecuteTime": {
     "end_time": "2020-10-08T14:59:35.609961Z",
     "start_time": "2020-10-08T14:59:35.508533Z"
    }
   },
   "outputs": [],
   "source": [
    "sub.to_csv(\"LAST.csv\", index=False)"
   ]
  }
 ],
 "metadata": {
  "kernelspec": {
   "display_name": "Python 3",
   "language": "python",
   "name": "python3"
  },
  "language_info": {
   "codemirror_mode": {
    "name": "ipython",
    "version": 3
   },
   "file_extension": ".py",
   "mimetype": "text/x-python",
   "name": "python",
   "nbconvert_exporter": "python",
   "pygments_lexer": "ipython3",
   "version": "3.7.6"
  },
  "toc": {
   "base_numbering": 1,
   "nav_menu": {},
   "number_sections": true,
   "sideBar": true,
   "skip_h1_title": false,
   "title_cell": "Table of Contents",
   "title_sidebar": "Contents",
   "toc_cell": false,
   "toc_position": {},
   "toc_section_display": true,
   "toc_window_display": false
  }
 },
 "nbformat": 4,
 "nbformat_minor": 4
}
