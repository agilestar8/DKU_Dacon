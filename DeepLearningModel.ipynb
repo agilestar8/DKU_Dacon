{
 "cells": [
  {
   "cell_type": "code",
   "execution_count": null,
   "metadata": {},
   "outputs": [],
   "source": [
    "import pandas as pd\n",
    "import numpy as np"
   ]
  },
  {
   "cell_type": "code",
   "execution_count": null,
   "metadata": {},
   "outputs": [],
   "source": [
    "train = pd.read_csv(r\"C:\\Users\\scott\\Desktop\\dankook_dacon\\dataset\\train.csv\")\n",
    "test = pd.read_csv(r\"C:\\Users\\scott\\Desktop\\dankook_dacon\\dataset\\test.csv\")\n",
    "alldata = pd.concat([train,test])\n",
    "alldata"
   ]
  },
  {
   "cell_type": "code",
   "execution_count": null,
   "metadata": {},
   "outputs": [],
   "source": [
    "alldata[\"u-g\"] = alldata[\"u\"]-alldata[\"g\"]\n",
    "alldata[\"g-r\"] = alldata[\"g\"]-alldata[\"r\"]\n",
    "alldata[\"r-i\"] = alldata[\"r\"]-alldata[\"i\"]\n",
    "alldata[\"i-z\"] = alldata[\"i\"]-alldata[\"z\"]\n",
    "\n",
    "alldata[\"d1\"] = alldata[\"dered_u\"]-alldata[\"dered_g\"]\n",
    "alldata[\"d2\"] = alldata[\"dered_g\"]-alldata[\"dered_r\"]\n",
    "alldata[\"d3\"] = alldata[\"dered_r\"]-alldata[\"dered_i\"]\n",
    "alldata[\"d4\"] = alldata[\"dered_i\"]-alldata[\"dered_z\"]\n",
    "\n",
    "alldata"
   ]
  },
  {
   "cell_type": "code",
   "execution_count": null,
   "metadata": {},
   "outputs": [],
   "source": [
    "# alldata2 = alldata.drop([\"id\",\"class\",\"airmass_u\",\"airmass_g\",\"airmass_r\",\"airmass_i\",\"airmass_z\"], axis=1)\n",
    "# alldata2"
   ]
  },
  {
   "cell_type": "code",
   "execution_count": null,
   "metadata": {},
   "outputs": [],
   "source": []
  },
  {
   "cell_type": "code",
   "execution_count": null,
   "metadata": {},
   "outputs": [],
   "source": []
  },
  {
   "cell_type": "code",
   "execution_count": null,
   "metadata": {},
   "outputs": [],
   "source": []
  },
  {
   "cell_type": "code",
   "execution_count": null,
   "metadata": {},
   "outputs": [],
   "source": []
  },
  {
   "cell_type": "code",
   "execution_count": null,
   "metadata": {},
   "outputs": [],
   "source": []
  },
  {
   "cell_type": "code",
   "execution_count": null,
   "metadata": {},
   "outputs": [],
   "source": []
  },
  {
   "cell_type": "code",
   "execution_count": null,
   "metadata": {},
   "outputs": [],
   "source": []
  }
 ],
 "metadata": {
  "kernelspec": {
   "display_name": "Python 3",
   "language": "python",
   "name": "python3"
  },
  "language_info": {
   "codemirror_mode": {
    "name": "ipython",
    "version": 3
   },
   "file_extension": ".py",
   "mimetype": "text/x-python",
   "name": "python",
   "nbconvert_exporter": "python",
   "pygments_lexer": "ipython3",
   "version": "3.7.6"
  },
  "toc": {
   "base_numbering": 1,
   "nav_menu": {},
   "number_sections": true,
   "sideBar": true,
   "skip_h1_title": false,
   "title_cell": "Table of Contents",
   "title_sidebar": "Contents",
   "toc_cell": false,
   "toc_position": {},
   "toc_section_display": true,
   "toc_window_display": false
  }
 },
 "nbformat": 4,
 "nbformat_minor": 4
}
