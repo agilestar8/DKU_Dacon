{
 "cells": [
  {
   "cell_type": "code",
   "execution_count": 28,
   "metadata": {
    "ExecuteTime": {
     "end_time": "2020-09-22T10:30:45.121276Z",
     "start_time": "2020-09-22T10:30:44.936710Z"
    }
   },
   "outputs": [],
   "source": [
    "%reload_ext autoreload\n",
    "%autoreload 2\n",
    "%matplotlib inline"
   ]
  },
  {
   "cell_type": "code",
   "execution_count": 29,
   "metadata": {
    "ExecuteTime": {
     "end_time": "2020-09-22T10:30:45.280789Z",
     "start_time": "2020-09-22T10:30:45.123209Z"
    }
   },
   "outputs": [],
   "source": [
    "import graphviz\n",
    "from matplotlib import pyplot as plt\n",
    "from matplotlib import rcParams\n",
    "import numpy as np\n",
    "from pathlib import Path\n",
    "import pandas as pd\n",
    "from sklearn.tree import DecisionTreeClassifier, export_graphviz\n",
    "from sklearn.metrics import accuracy_score\n",
    "from sklearn.model_selection import KFold\n",
    "import warnings"
   ]
  },
  {
   "cell_type": "code",
   "execution_count": 30,
   "metadata": {
    "ExecuteTime": {
     "end_time": "2020-09-22T10:30:45.439368Z",
     "start_time": "2020-09-22T10:30:45.282783Z"
    }
   },
   "outputs": [],
   "source": [
    "rcParams['figure.figsize'] = (16, 8)\n",
    "plt.style.use('fivethirtyeight')\n",
    "pd.set_option('max_columns', 100)\n",
    "pd.set_option(\"display.precision\", 4)\n",
    "warnings.simplefilter('ignore')"
   ]
  },
  {
   "cell_type": "code",
   "execution_count": 31,
   "metadata": {
    "ExecuteTime": {
     "end_time": "2020-09-22T10:30:46.773819Z",
     "start_time": "2020-09-22T10:30:45.441358Z"
    }
   },
   "outputs": [],
   "source": [
    "train = pd.read_csv(r\"C:\\Users\\scott\\Desktop\\dankook_dacon\\dataset\\train.csv\")\n",
    "test = pd.read_csv(r\"C:\\Users\\scott\\Desktop\\dankook_dacon\\dataset\\test.csv\")\n",
    "alldata = pd.concat([train,test])"
   ]
  },
  {
   "cell_type": "code",
   "execution_count": 57,
   "metadata": {
    "ExecuteTime": {
     "end_time": "2020-09-22T10:32:44.600668Z",
     "start_time": "2020-09-22T10:32:44.404099Z"
    }
   },
   "outputs": [],
   "source": [
    "alldata[\"u-g\"] = alldata[\"u\"]-alldata[\"g\"]\n",
    "alldata[\"g-r\"] = alldata[\"g\"]-alldata[\"r\"]\n",
    "alldata[\"r-i\"] = alldata[\"r\"]-alldata[\"i\"]\n",
    "alldata[\"i-z\"] = alldata[\"i\"]-alldata[\"z\"]\n",
    "\n",
    "alldata[\"dered_diff1\"] = alldata[\"dered_u\"]-alldata[\"dered_g\"]\n",
    "alldata[\"dered_diff2\"] = alldata[\"dered_g\"]-alldata[\"dered_r\"]\n",
    "alldata[\"dered_diff3\"] = alldata[\"dered_r\"]-alldata[\"dered_i\"]\n",
    "alldata[\"dered_diff4\"] = alldata[\"dered_i\"]-alldata[\"dered_z\"]"
   ]
  },
  {
   "cell_type": "code",
   "execution_count": 58,
   "metadata": {
    "ExecuteTime": {
     "end_time": "2020-09-22T10:32:44.803027Z",
     "start_time": "2020-09-22T10:32:44.602595Z"
    }
   },
   "outputs": [],
   "source": [
    "alldata2 = alldata.drop([\"id\",\"class\",\"airmass_u\",\"airmass_g\",\"airmass_r\",\"airmass_i\",\"airmass_z\"], axis=1)\n",
    "train2 = alldata2[:len(train)]\n",
    "test2 = alldata2[len(train):]"
   ]
  },
  {
   "cell_type": "code",
   "execution_count": 59,
   "metadata": {
    "ExecuteTime": {
     "end_time": "2020-09-22T10:32:53.147728Z",
     "start_time": "2020-09-22T10:32:44.805022Z"
    }
   },
   "outputs": [
    {
     "name": "stdout",
     "output_type": "stream",
     "text": [
      "93.2781%\n"
     ]
    }
   ],
   "source": [
    "clf = DecisionTreeClassifier(max_depth=10, min_samples_leaf=10, random_state=42)\n",
    "clf.fit(train2, train[\"class\"])\n",
    "result = clf.predict(test2)\n",
    "\n",
    "print(f'{accuracy_score(train[\"class\"], clf.predict(train2)) * 100:.4f}%')"
   ]
  },
  {
   "cell_type": "code",
   "execution_count": 60,
   "metadata": {
    "ExecuteTime": {
     "end_time": "2020-09-22T10:32:53.317258Z",
     "start_time": "2020-09-22T10:32:53.149697Z"
    }
   },
   "outputs": [],
   "source": [
    "# dot_data = export_graphviz(clf, out_file=None,\n",
    "#                            feature_names=train2.columns,\n",
    "#                            filled=True,\n",
    "#                            rounded=True,\n",
    "#                            special_characters=True)  \n",
    "# graph = graphviz.Source(dot_data)  \n",
    "# graph"
   ]
  },
  {
   "cell_type": "code",
   "execution_count": 61,
   "metadata": {
    "ExecuteTime": {
     "end_time": "2020-09-22T10:32:53.507766Z",
     "start_time": "2020-09-22T10:32:53.319242Z"
    }
   },
   "outputs": [
    {
     "data": {
      "text/html": [
       "<div>\n",
       "<style scoped>\n",
       "    .dataframe tbody tr th:only-of-type {\n",
       "        vertical-align: middle;\n",
       "    }\n",
       "\n",
       "    .dataframe tbody tr th {\n",
       "        vertical-align: top;\n",
       "    }\n",
       "\n",
       "    .dataframe thead th {\n",
       "        text-align: right;\n",
       "    }\n",
       "</style>\n",
       "<table border=\"1\" class=\"dataframe\">\n",
       "  <thead>\n",
       "    <tr style=\"text-align: right;\">\n",
       "      <th></th>\n",
       "      <th>id</th>\n",
       "      <th>class</th>\n",
       "    </tr>\n",
       "  </thead>\n",
       "  <tbody>\n",
       "    <tr>\n",
       "      <th>0</th>\n",
       "      <td>320000</td>\n",
       "      <td>2</td>\n",
       "    </tr>\n",
       "    <tr>\n",
       "      <th>1</th>\n",
       "      <td>320001</td>\n",
       "      <td>0</td>\n",
       "    </tr>\n",
       "    <tr>\n",
       "      <th>2</th>\n",
       "      <td>320002</td>\n",
       "      <td>2</td>\n",
       "    </tr>\n",
       "    <tr>\n",
       "      <th>3</th>\n",
       "      <td>320003</td>\n",
       "      <td>0</td>\n",
       "    </tr>\n",
       "    <tr>\n",
       "      <th>4</th>\n",
       "      <td>320004</td>\n",
       "      <td>2</td>\n",
       "    </tr>\n",
       "    <tr>\n",
       "      <th>...</th>\n",
       "      <td>...</td>\n",
       "      <td>...</td>\n",
       "    </tr>\n",
       "    <tr>\n",
       "      <th>79995</th>\n",
       "      <td>399995</td>\n",
       "      <td>0</td>\n",
       "    </tr>\n",
       "    <tr>\n",
       "      <th>79996</th>\n",
       "      <td>399996</td>\n",
       "      <td>1</td>\n",
       "    </tr>\n",
       "    <tr>\n",
       "      <th>79997</th>\n",
       "      <td>399997</td>\n",
       "      <td>0</td>\n",
       "    </tr>\n",
       "    <tr>\n",
       "      <th>79998</th>\n",
       "      <td>399998</td>\n",
       "      <td>2</td>\n",
       "    </tr>\n",
       "    <tr>\n",
       "      <th>79999</th>\n",
       "      <td>399999</td>\n",
       "      <td>0</td>\n",
       "    </tr>\n",
       "  </tbody>\n",
       "</table>\n",
       "<p>80000 rows × 2 columns</p>\n",
       "</div>"
      ],
      "text/plain": [
       "           id  class\n",
       "0      320000      2\n",
       "1      320001      0\n",
       "2      320002      2\n",
       "3      320003      0\n",
       "4      320004      2\n",
       "...       ...    ...\n",
       "79995  399995      0\n",
       "79996  399996      1\n",
       "79997  399997      0\n",
       "79998  399998      2\n",
       "79999  399999      0\n",
       "\n",
       "[80000 rows x 2 columns]"
      ]
     },
     "execution_count": 61,
     "metadata": {},
     "output_type": "execute_result"
    }
   ],
   "source": [
    "sub = pd.read_csv(r\"C:\\Users\\scott\\Desktop\\dankook_dacon\\dataset\\sample_submission.csv\")\n",
    "sub[\"class\"] = result\n",
    "sub"
   ]
  },
  {
   "cell_type": "code",
   "execution_count": 62,
   "metadata": {
    "ExecuteTime": {
     "end_time": "2020-09-22T10:32:53.784065Z",
     "start_time": "2020-09-22T10:32:53.509735Z"
    }
   },
   "outputs": [],
   "source": [
    "sub.to_csv(\"결정트리 학습과제.csv\", index=False)"
   ]
  }
 ],
 "metadata": {
  "kernelspec": {
   "display_name": "Python 3",
   "language": "python",
   "name": "python3"
  },
  "language_info": {
   "codemirror_mode": {
    "name": "ipython",
    "version": 3
   },
   "file_extension": ".py",
   "mimetype": "text/x-python",
   "name": "python",
   "nbconvert_exporter": "python",
   "pygments_lexer": "ipython3",
   "version": "3.7.6"
  },
  "toc": {
   "base_numbering": 1,
   "nav_menu": {},
   "number_sections": true,
   "sideBar": true,
   "skip_h1_title": false,
   "title_cell": "Table of Contents",
   "title_sidebar": "Contents",
   "toc_cell": false,
   "toc_position": {},
   "toc_section_display": true,
   "toc_window_display": false
  }
 },
 "nbformat": 4,
 "nbformat_minor": 4
}
