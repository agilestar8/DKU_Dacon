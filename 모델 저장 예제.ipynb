{
 "cells": [
  {
   "cell_type": "code",
   "execution_count": 5,
   "metadata": {
    "ExecuteTime": {
     "end_time": "2020-10-04T10:46:20.396204Z",
     "start_time": "2020-10-04T10:46:20.391212Z"
    }
   },
   "outputs": [],
   "source": [
    "import pandas as pd\n",
    "import numpy as np\n",
    "from sklearn.model_selection import StratifiedKFold\n",
    "from lightgbm import LGBMClassifier"
   ]
  },
  {
   "cell_type": "code",
   "execution_count": 6,
   "metadata": {
    "ExecuteTime": {
     "end_time": "2020-10-04T10:46:21.479308Z",
     "start_time": "2020-10-04T10:46:20.397169Z"
    }
   },
   "outputs": [],
   "source": [
    "train = pd.read_csv(r\"C:\\Users\\scott\\Desktop\\dankook_dacon\\dataset\\train.csv\")\n",
    "test = pd.read_csv(r\"C:\\Users\\scott\\Desktop\\dankook_dacon\\dataset\\test.csv\")"
   ]
  },
  {
   "cell_type": "code",
   "execution_count": 7,
   "metadata": {
    "ExecuteTime": {
     "end_time": "2020-10-04T10:46:21.672760Z",
     "start_time": "2020-10-04T10:46:21.481270Z"
    }
   },
   "outputs": [],
   "source": [
    "alldata = pd.concat([train,test])\n",
    "alldata2 = alldata.drop([\"id\",\"class\"], axis=1)\n",
    "train2 = alldata2[:len(train)]\n",
    "test2 = alldata2[len(train):]"
   ]
  },
  {
   "cell_type": "code",
   "execution_count": 8,
   "metadata": {
    "ExecuteTime": {
     "end_time": "2020-10-04T10:46:27.437341Z",
     "start_time": "2020-10-04T10:46:21.674757Z"
    }
   },
   "outputs": [
    {
     "data": {
      "text/plain": [
       "LGBMClassifier(boosting_type='gbdt', class_weight=None, colsample_bytree=1.0,\n",
       "               importance_type='split', learning_rate=0.1, max_depth=-1,\n",
       "               min_child_samples=20, min_child_weight=0.001, min_split_gain=0.0,\n",
       "               n_estimators=100, n_jobs=-1, num_leaves=31, objective=None,\n",
       "               random_state=None, reg_alpha=0.0, reg_lambda=0.0, silent=True,\n",
       "               subsample=1.0, subsample_for_bin=200000, subsample_freq=0)"
      ]
     },
     "execution_count": 8,
     "metadata": {},
     "output_type": "execute_result"
    }
   ],
   "source": [
    "lgb = LGBMClassifier(n_estimators=100)\n",
    "lgb.fit(train2,train[\"class\"])"
   ]
  },
  {
   "cell_type": "code",
   "execution_count": 9,
   "metadata": {
    "ExecuteTime": {
     "end_time": "2020-10-04T10:46:27.444322Z",
     "start_time": "2020-10-04T10:46:27.440334Z"
    }
   },
   "outputs": [],
   "source": [
    "# from sklearn.externals import joblib \n",
    "\n",
    "# ## 저장\n",
    "# file_name = 'object_01.pkl' \n",
    "# joblib.dump(lgb, file_name) \n",
    "\n",
    "# ## 읽어오기\n",
    "# file_name = 'object_01.pkl' \n",
    "# obj = joblib.load(file_name) "
   ]
  },
  {
   "cell_type": "code",
   "execution_count": 10,
   "metadata": {
    "ExecuteTime": {
     "end_time": "2020-10-04T10:46:27.476237Z",
     "start_time": "2020-10-04T10:46:27.447314Z"
    }
   },
   "outputs": [],
   "source": [
    "# obj.predict(test2)"
   ]
  },
  {
   "cell_type": "code",
   "execution_count": null,
   "metadata": {},
   "outputs": [],
   "source": [
    "(32000,3) -> 30000 x\n"
   ]
  },
  {
   "cell_type": "code",
   "execution_count": 20,
   "metadata": {
    "ExecuteTime": {
     "end_time": "2020-10-04T11:14:47.797205Z",
     "start_time": "2020-10-04T11:14:33.062634Z"
    }
   },
   "outputs": [
    {
     "name": "stdout",
     "output_type": "stream",
     "text": [
      "model :  LGBMClassifier\n"
     ]
    },
    {
     "data": {
      "text/plain": [
       "array([[0.],\n",
       "       [2.],\n",
       "       [0.],\n",
       "       ...,\n",
       "       [0.],\n",
       "       [0.],\n",
       "       [0.]])"
      ]
     },
     "execution_count": 20,
     "metadata": {},
     "output_type": "execute_result"
    }
   ],
   "source": [
    "# def get_stacking_data(model, x_train, y_train, x_test):\n",
    "#     kfold = StratifiedKFold(n_splits = 3, random_state = 42, shuffle = True)\n",
    "    \n",
    "#     train_fold_predict = np.zeros((x_train.shape[0],1))\n",
    "#     test_predict = np.zeros((x_test.shape[0], 3)) # n_fold=5\n",
    "    \n",
    "#     print(\"model : \", model.__class__.__name__)\n",
    "    \n",
    "#     for cnt, (i,j) in enumerate(kfold.split(x_train,y_train)):\n",
    "#         x_train_ = x_train.iloc[i]\n",
    "#         y_train_ = y_train.iloc[i]\n",
    "#         x_validation = x_train.iloc[j]\n",
    "        \n",
    "#         model.fit(x_train_, y_train_)\n",
    "#         train_fold_predict[j,:] = model.predict(x_validation).reshape(-1,1)\n",
    "#         test_predict[:,cnt] = model.predict(x_test)\n",
    "        \n",
    "#     test_predict_mean = np.mean(test_predict, axis=1).reshape(-1,1)\n",
    "#     return train_fold_predict, test_predict_mean\n",
    "\n",
    "# lgb_train, lgb_test = get_stacking_data(lgb, train2, train[\"class\"], test2)\n",
    "# lgb_train"
   ]
  },
  {
   "cell_type": "code",
   "execution_count": 37,
   "metadata": {
    "ExecuteTime": {
     "end_time": "2020-10-04T11:21:13.883140Z",
     "start_time": "2020-10-04T11:21:13.878123Z"
    }
   },
   "outputs": [
    {
     "data": {
      "text/plain": [
       "(80000, 3)"
      ]
     },
     "execution_count": 37,
     "metadata": {},
     "output_type": "execute_result"
    }
   ],
   "source": [
    "(test2.shape[0], 3)"
   ]
  },
  {
   "cell_type": "code",
   "execution_count": 31,
   "metadata": {
    "ExecuteTime": {
     "end_time": "2020-10-04T11:19:38.645148Z",
     "start_time": "2020-10-04T11:18:32.160929Z"
    }
   },
   "outputs": [
    {
     "name": "stdout",
     "output_type": "stream",
     "text": [
      "training model for CV #1\n",
      "training model for CV #2\n",
      "training model for CV #3\n",
      "training model for CV #4\n",
      "training model for CV #5\n",
      "training model for CV #6\n",
      "training model for CV #7\n",
      "training model for CV #8\n",
      "training model for CV #9\n",
      "training model for CV #10\n"
     ]
    },
    {
     "data": {
      "text/plain": [
       "array([[9.99919416e-01, 4.01115085e-05, 4.04724928e-05],\n",
       "       [7.05649913e-03, 2.06095514e-01, 7.86847987e-01],\n",
       "       [9.96338241e-01, 3.10115174e-03, 5.60607754e-04],\n",
       "       ...,\n",
       "       [9.99901552e-01, 5.06598573e-05, 4.77884476e-05],\n",
       "       [9.99709390e-01, 1.32485276e-04, 1.58124971e-04],\n",
       "       [9.99939750e-01, 1.26653526e-05, 4.75841827e-05]])"
      ]
     },
     "execution_count": 31,
     "metadata": {},
     "output_type": "execute_result"
    }
   ],
   "source": [
    "cv = StratifiedKFold(n_splits = 5, random_state = 42, shuffle = True)\n",
    "p_val = np.zeros((train2.shape[0], 3))\n",
    "p_tst = np.zeros((test2.shape[0], 3))\n",
    "\n",
    "for i, (i_trn, i_val) in enumerate(cv.split(train2, train[\"class\"]), 1):\n",
    "    print(f'training model for CV #{i}')\n",
    "    clf = LGBMClassifier(n_estimators = 100)    \n",
    "    clf.fit(train2.iloc[i_trn], train[\"class\"].iloc[i_trn])\n",
    "    \n",
    "    p_val[i_val, :] = clf.predict_proba(train2.iloc[i_val]) # p_val : 스태킹 x_train\n",
    "    p_tst += clf.predict_proba(test2) / 10                  # p_tst : 스태킹 x_test\n",
    "    \n",
    "p_val"
   ]
  },
  {
   "cell_type": "code",
   "execution_count": null,
   "metadata": {},
   "outputs": [],
   "source": []
  }
 ],
 "metadata": {
  "kernelspec": {
   "display_name": "Python 3",
   "language": "python",
   "name": "python3"
  },
  "language_info": {
   "codemirror_mode": {
    "name": "ipython",
    "version": 3
   },
   "file_extension": ".py",
   "mimetype": "text/x-python",
   "name": "python",
   "nbconvert_exporter": "python",
   "pygments_lexer": "ipython3",
   "version": "3.7.6"
  },
  "toc": {
   "base_numbering": 1,
   "nav_menu": {},
   "number_sections": true,
   "sideBar": true,
   "skip_h1_title": false,
   "title_cell": "Table of Contents",
   "title_sidebar": "Contents",
   "toc_cell": false,
   "toc_position": {},
   "toc_section_display": true,
   "toc_window_display": false
  }
 },
 "nbformat": 4,
 "nbformat_minor": 4
}
